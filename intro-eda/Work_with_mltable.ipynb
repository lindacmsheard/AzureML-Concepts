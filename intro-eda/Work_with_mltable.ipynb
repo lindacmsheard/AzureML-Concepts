{
  "cells": [
    {
      "cell_type": "markdown",
      "source": [
        "Docs: https://learn.microsoft.com/en-us/azure/machine-learning/how-to-mltable?view=azureml-api-2&tabs=cli\n",
        "\n",
        "if not on Azure ml CLI, run \n",
        "```\n",
        "%pip install -U mltable azureml-dataprep[pandas]\n",
        "```"
      ],
      "metadata": {
        "nteract": {
          "transient": {
            "deleting": false
          }
        }
      }
    },
    {
      "cell_type": "code",
      "source": [
        "%pip install -U mltable azureml-dataprep[pandas]"
      ],
      "outputs": [
        {
          "output_type": "stream",
          "name": "stdout",
          "text": "Requirement already satisfied: mltable in /anaconda/envs/azureml_py310_sdkv2/lib/python3.10/site-packages (1.4.1)\nCollecting mltable\n  Downloading mltable-1.6.1-py3-none-any.whl (189 kB)\n\u001b[2K     \u001b[90m━━━━━━━━━━━━━━━━━━━━━━━━━━━━━━━━━━━━━━━\u001b[0m \u001b[32m189.4/189.4 kB\u001b[0m \u001b[31m4.9 MB/s\u001b[0m eta \u001b[36m0:00:00\u001b[0ma \u001b[36m0:00:01\u001b[0m\n\u001b[?25hRequirement already satisfied: azureml-dataprep[pandas] in /anaconda/envs/azureml_py310_sdkv2/lib/python3.10/site-packages (4.11.3)\nCollecting azureml-dataprep[pandas]\n  Downloading azureml_dataprep-5.1.6-py3-none-any.whl (252 kB)\n\u001b[2K     \u001b[90m━━━━━━━━━━━━━━━━━━━━━━━━━━━━━━━━━━━━━━\u001b[0m \u001b[32m252.4/252.4 kB\u001b[0m \u001b[31m24.0 MB/s\u001b[0m eta \u001b[36m0:00:00\u001b[0m\n\u001b[?25hRequirement already satisfied: pyyaml<7.0.0,>=5.1.0 in /anaconda/envs/azureml_py310_sdkv2/lib/python3.10/site-packages (from mltable) (6.0)\nRequirement already satisfied: jsonschema<5.0.0,>=4.0.0 in /anaconda/envs/azureml_py310_sdkv2/lib/python3.10/site-packages (from mltable) (4.17.3)\nRequirement already satisfied: msrest>=0.6.18 in /anaconda/envs/azureml_py310_sdkv2/lib/python3.10/site-packages (from mltable) (0.7.1)\nRequirement already satisfied: azure-core!=1.22.0,<2.0.0,>=1.8.0 in /anaconda/envs/azureml_py310_sdkv2/lib/python3.10/site-packages (from mltable) (1.27.1)\nRequirement already satisfied: azure-mgmt-core<2.0.0,>=1.3.0 in /anaconda/envs/azureml_py310_sdkv2/lib/python3.10/site-packages (from mltable) (1.4.0)\nRequirement already satisfied: python-dateutil<3.0.0,>=2.7.3 in /anaconda/envs/azureml_py310_sdkv2/lib/python3.10/site-packages (from mltable) (2.8.2)\nRequirement already satisfied: cryptography!=1.9,!=2.0.*,!=2.1.*,!=2.2.* in /anaconda/envs/azureml_py310_sdkv2/lib/python3.10/site-packages (from mltable) (41.0.1)\nRequirement already satisfied: PyJWT<3.0.0 in /anaconda/envs/azureml_py310_sdkv2/lib/python3.10/site-packages (from mltable) (2.7.0)\nRequirement already satisfied: pytz in /anaconda/envs/azureml_py310_sdkv2/lib/python3.10/site-packages (from mltable) (2023.3)\nCollecting azureml-dataprep-native<42.0.0,>=41.0.0 (from azureml-dataprep[pandas])\n  Downloading azureml_dataprep_native-41.0.0-cp310-cp310-manylinux1_x86_64.whl (187 kB)\n\u001b[2K     \u001b[90m━━━━━━━━━━━━━━━━━━━━━━━━━━━━━━━━━━━━━━\u001b[0m \u001b[32m187.7/187.7 kB\u001b[0m \u001b[31m18.8 MB/s\u001b[0m eta \u001b[36m0:00:00\u001b[0m\n\u001b[?25hCollecting azureml-dataprep-rslex~=2.22.2dev0 (from azureml-dataprep[pandas])\n  Downloading azureml_dataprep_rslex-2.22.2-cp310-cp310-manylinux_2_17_x86_64.manylinux2014_x86_64.whl (24.7 MB)\n\u001b[2K     \u001b[90m━━━━━━━━━━━━━━━━━━━━━━━━━━━━━━━━━━━━━━━━\u001b[0m \u001b[32m24.7/24.7 MB\u001b[0m \u001b[31m44.9 MB/s\u001b[0m eta \u001b[36m0:00:00\u001b[0m00:01\u001b[0m00:01\u001b[0m\n\u001b[?25hRequirement already satisfied: cloudpickle<3.0.0,>=1.1.0 in /anaconda/envs/azureml_py310_sdkv2/lib/python3.10/site-packages (from azureml-dataprep[pandas]) (2.2.1)\nRequirement already satisfied: azure-identity>=1.7.0 in /anaconda/envs/azureml_py310_sdkv2/lib/python3.10/site-packages (from azureml-dataprep[pandas]) (1.13.0)\nRequirement already satisfied: numpy>=1.14.0 in /anaconda/envs/azureml_py310_sdkv2/lib/python3.10/site-packages (from azureml-dataprep[pandas]) (1.25.0)\nRequirement already satisfied: pandas>=0.23.4 in /anaconda/envs/azureml_py310_sdkv2/lib/python3.10/site-packages (from azureml-dataprep[pandas]) (2.0.2)\nRequirement already satisfied: pyarrow>=0.17.0 in /anaconda/envs/azureml_py310_sdkv2/lib/python3.10/site-packages (from azureml-dataprep[pandas]) (12.0.1)\nRequirement already satisfied: requests>=2.18.4 in /anaconda/envs/azureml_py310_sdkv2/lib/python3.10/site-packages (from azure-core!=1.22.0,<2.0.0,>=1.8.0->mltable) (2.31.0)\nRequirement already satisfied: six>=1.11.0 in /anaconda/envs/azureml_py310_sdkv2/lib/python3.10/site-packages (from azure-core!=1.22.0,<2.0.0,>=1.8.0->mltable) (1.16.0)\nRequirement already satisfied: typing-extensions>=4.3.0 in /anaconda/envs/azureml_py310_sdkv2/lib/python3.10/site-packages (from azure-core!=1.22.0,<2.0.0,>=1.8.0->mltable) (4.6.3)\nRequirement already satisfied: msal<2.0.0,>=1.20.0 in /anaconda/envs/azureml_py310_sdkv2/lib/python3.10/site-packages (from azure-identity>=1.7.0->azureml-dataprep[pandas]) (1.22.0)\nRequirement already satisfied: msal-extensions<2.0.0,>=0.3.0 in /anaconda/envs/azureml_py310_sdkv2/lib/python3.10/site-packages (from azure-identity>=1.7.0->azureml-dataprep[pandas]) (1.0.0)\nRequirement already satisfied: cffi>=1.12 in /anaconda/envs/azureml_py310_sdkv2/lib/python3.10/site-packages (from cryptography!=1.9,!=2.0.*,!=2.1.*,!=2.2.*->mltable) (1.15.1)\nRequirement already satisfied: attrs>=17.4.0 in /anaconda/envs/azureml_py310_sdkv2/lib/python3.10/site-packages (from jsonschema<5.0.0,>=4.0.0->mltable) (23.1.0)\nRequirement already satisfied: pyrsistent!=0.17.0,!=0.17.1,!=0.17.2,>=0.14.0 in /anaconda/envs/azureml_py310_sdkv2/lib/python3.10/site-packages (from jsonschema<5.0.0,>=4.0.0->mltable) (0.19.3)\nRequirement already satisfied: certifi>=2017.4.17 in /anaconda/envs/azureml_py310_sdkv2/lib/python3.10/site-packages (from msrest>=0.6.18->mltable) (2023.5.7)\nRequirement already satisfied: isodate>=0.6.0 in /anaconda/envs/azureml_py310_sdkv2/lib/python3.10/site-packages (from msrest>=0.6.18->mltable) (0.6.1)\nRequirement already satisfied: requests-oauthlib>=0.5.0 in /anaconda/envs/azureml_py310_sdkv2/lib/python3.10/site-packages (from msrest>=0.6.18->mltable) (1.3.1)\nRequirement already satisfied: tzdata>=2022.1 in /anaconda/envs/azureml_py310_sdkv2/lib/python3.10/site-packages (from pandas>=0.23.4->azureml-dataprep[pandas]) (2023.3)\nRequirement already satisfied: pycparser in /anaconda/envs/azureml_py310_sdkv2/lib/python3.10/site-packages (from cffi>=1.12->cryptography!=1.9,!=2.0.*,!=2.1.*,!=2.2.*->mltable) (2.21)\nRequirement already satisfied: portalocker<3,>=1.0 in /anaconda/envs/azureml_py310_sdkv2/lib/python3.10/site-packages (from msal-extensions<2.0.0,>=0.3.0->azure-identity>=1.7.0->azureml-dataprep[pandas]) (2.7.0)\nRequirement already satisfied: charset-normalizer<4,>=2 in /anaconda/envs/azureml_py310_sdkv2/lib/python3.10/site-packages (from requests>=2.18.4->azure-core!=1.22.0,<2.0.0,>=1.8.0->mltable) (3.1.0)\nRequirement already satisfied: idna<4,>=2.5 in /anaconda/envs/azureml_py310_sdkv2/lib/python3.10/site-packages (from requests>=2.18.4->azure-core!=1.22.0,<2.0.0,>=1.8.0->mltable) (3.4)\nRequirement already satisfied: urllib3<3,>=1.21.1 in /anaconda/envs/azureml_py310_sdkv2/lib/python3.10/site-packages (from requests>=2.18.4->azure-core!=1.22.0,<2.0.0,>=1.8.0->mltable) (1.26.16)\nRequirement already satisfied: oauthlib>=3.0.0 in /anaconda/envs/azureml_py310_sdkv2/lib/python3.10/site-packages (from requests-oauthlib>=0.5.0->msrest>=0.6.18->mltable) (3.2.2)\nInstalling collected packages: azureml-dataprep-rslex, azureml-dataprep-native, azureml-dataprep, mltable\n  Attempting uninstall: azureml-dataprep-rslex\n    Found existing installation: azureml-dataprep-rslex 2.18.3\n    Uninstalling azureml-dataprep-rslex-2.18.3:\n      Successfully uninstalled azureml-dataprep-rslex-2.18.3\n  Attempting uninstall: azureml-dataprep-native\n    Found existing installation: azureml-dataprep-native 38.0.0\n    Uninstalling azureml-dataprep-native-38.0.0:\n      Successfully uninstalled azureml-dataprep-native-38.0.0\n  Attempting uninstall: azureml-dataprep\n    Found existing installation: azureml-dataprep 4.11.3\n    Uninstalling azureml-dataprep-4.11.3:\n      Successfully uninstalled azureml-dataprep-4.11.3\n  Attempting uninstall: mltable\n    Found existing installation: mltable 1.4.1\n    Uninstalling mltable-1.4.1:\n      Successfully uninstalled mltable-1.4.1\n\u001b[31mERROR: pip's dependency resolver does not currently take into account all the packages that are installed. This behaviour is the source of the following dependency conflicts.\nazureml-fsspec 1.1.0 requires azureml-dataprep<4.12.0a,>=4.11.1, but you have azureml-dataprep 5.1.6 which is incompatible.\u001b[0m\u001b[31m\n\u001b[0mSuccessfully installed azureml-dataprep-5.1.6 azureml-dataprep-native-41.0.0 azureml-dataprep-rslex-2.22.2 mltable-1.6.1\nNote: you may need to restart the kernel to use updated packages.\n"
        }
      ],
      "execution_count": 7,
      "metadata": {
        "jupyter": {
          "source_hidden": false,
          "outputs_hidden": true
        },
        "nteract": {
          "transient": {
            "deleting": false
          }
        }
      }
    },
    {
      "cell_type": "markdown",
      "source": [
        "## Author an ML Table file manually from remote data\n"
      ],
      "metadata": {
        "nteract": {
          "transient": {
            "deleting": false
          }
        }
      }
    },
    {
      "cell_type": "code",
      "source": [
        "import mltable\n",
        "\n",
        "# glob the parquet file paths for years 2015-19, all months.\n",
        "paths = [\n",
        "    {\n",
        "        \"pattern\": \"wasbs://nyctlc@azureopendatastorage.blob.core.windows.net/green/puYear=2015/puMonth=*/*.parquet\"\n",
        "    },\n",
        "    {\n",
        "        \"pattern\": \"wasbs://nyctlc@azureopendatastorage.blob.core.windows.net/green/puYear=2016/puMonth=*/*.parquet\"\n",
        "    },\n",
        "    {\n",
        "        \"pattern\": \"wasbs://nyctlc@azureopendatastorage.blob.core.windows.net/green/puYear=2017/puMonth=*/*.parquet\"\n",
        "    },\n",
        "    {\n",
        "        \"pattern\": \"wasbs://nyctlc@azureopendatastorage.blob.core.windows.net/green/puYear=2018/puMonth=*/*.parquet\"\n",
        "    },\n",
        "    {\n",
        "        \"pattern\": \"wasbs://nyctlc@azureopendatastorage.blob.core.windows.net/green/puYear=2019/puMonth=*/*.parquet\"\n",
        "    },\n",
        "]\n",
        "\n",
        "# create a table from the parquet paths\n",
        "tbl = mltable.from_parquet_files(paths)\n",
        "\n",
        "# table a random sample\n",
        "tbl = tbl.take_random_sample(probability=0.001, seed=735)\n",
        "\n",
        "# filter trips with a distance > 0\n",
        "tbl = tbl.filter(\"col('tripDistance') > 0\")\n",
        "\n",
        "# Drop columns\n",
        "tbl = tbl.drop_columns([\"puLocationId\", \"doLocationId\", \"storeAndFwdFlag\"])\n",
        "\n",
        "# Create two new columns - year and month - where the values are taken from the path\n",
        "tbl = tbl.extract_columns_from_partition_format(\"/puYear={year}/puMonth={month}\")\n",
        "\n",
        "# print the first 5 records of the table as a check\n",
        "tbl.show(5)"
      ],
      "outputs": [
        {
          "output_type": "execute_result",
          "execution_count": 8,
          "data": {
            "text/plain": "   vendorID  lpepPickupDatetime lpepDropoffDatetime  passengerCount  \\\n0         2 2015-01-01 21:12:07 2015-01-01 21:15:41               3   \n1         2 2015-01-01 03:46:04 2015-01-01 04:01:51               1   \n2         2 2015-01-01 03:55:56 2015-01-01 04:10:34               1   \n3         2 2015-01-01 03:54:46 2015-01-01 04:14:51               1   \n4         2 2015-01-01 04:01:51 2015-01-01 04:09:30               5   \n\n   tripDistance  pickupLongitude  pickupLatitude  dropoffLongitude  \\\n0          0.71       -73.925369       40.761669        -73.923599   \n1          1.06       -73.964684       40.682896        -73.961937   \n2          4.90       -73.989822       40.691109        -73.974564   \n3          3.57       -73.932167       40.707943        -73.963890   \n4          1.52       -73.889145       40.747181        -73.895729   \n\n   dropoffLatitude  rateCodeID  ...  extra  mtaTax  improvementSurcharge  \\\n0        40.754658           1  ...    0.5     0.5                   0.3   \n1        40.678196           1  ...    0.5     0.5                   0.3   \n2        40.646412           1  ...    0.5     0.5                   0.3   \n3        40.692127           1  ...    0.5     0.5                   0.3   \n4        40.731693           1  ...    0.5     0.5                   0.3   \n\n   tipAmount tollsAmount  ehailFee  totalAmount tripType  year  month  \n0       1.00         0.0      None         6.80        1  2015      1  \n1       0.00         0.0      None         7.80        1  2015      1  \n2       4.38         0.0      None        22.68        1  2015      1  \n3       0.00         0.0      None        16.80        1  2015      1  \n4       0.00         0.0      None         8.80        1  2015      1  \n\n[5 rows x 22 columns]",
            "text/html": "<div>\n<style scoped>\n    .dataframe tbody tr th:only-of-type {\n        vertical-align: middle;\n    }\n\n    .dataframe tbody tr th {\n        vertical-align: top;\n    }\n\n    .dataframe thead th {\n        text-align: right;\n    }\n</style>\n<table border=\"1\" class=\"dataframe\">\n  <thead>\n    <tr style=\"text-align: right;\">\n      <th></th>\n      <th>vendorID</th>\n      <th>lpepPickupDatetime</th>\n      <th>lpepDropoffDatetime</th>\n      <th>passengerCount</th>\n      <th>tripDistance</th>\n      <th>pickupLongitude</th>\n      <th>pickupLatitude</th>\n      <th>dropoffLongitude</th>\n      <th>dropoffLatitude</th>\n      <th>rateCodeID</th>\n      <th>...</th>\n      <th>extra</th>\n      <th>mtaTax</th>\n      <th>improvementSurcharge</th>\n      <th>tipAmount</th>\n      <th>tollsAmount</th>\n      <th>ehailFee</th>\n      <th>totalAmount</th>\n      <th>tripType</th>\n      <th>year</th>\n      <th>month</th>\n    </tr>\n  </thead>\n  <tbody>\n    <tr>\n      <th>0</th>\n      <td>2</td>\n      <td>2015-01-01 21:12:07</td>\n      <td>2015-01-01 21:15:41</td>\n      <td>3</td>\n      <td>0.71</td>\n      <td>-73.925369</td>\n      <td>40.761669</td>\n      <td>-73.923599</td>\n      <td>40.754658</td>\n      <td>1</td>\n      <td>...</td>\n      <td>0.5</td>\n      <td>0.5</td>\n      <td>0.3</td>\n      <td>1.00</td>\n      <td>0.0</td>\n      <td>None</td>\n      <td>6.80</td>\n      <td>1</td>\n      <td>2015</td>\n      <td>1</td>\n    </tr>\n    <tr>\n      <th>1</th>\n      <td>2</td>\n      <td>2015-01-01 03:46:04</td>\n      <td>2015-01-01 04:01:51</td>\n      <td>1</td>\n      <td>1.06</td>\n      <td>-73.964684</td>\n      <td>40.682896</td>\n      <td>-73.961937</td>\n      <td>40.678196</td>\n      <td>1</td>\n      <td>...</td>\n      <td>0.5</td>\n      <td>0.5</td>\n      <td>0.3</td>\n      <td>0.00</td>\n      <td>0.0</td>\n      <td>None</td>\n      <td>7.80</td>\n      <td>1</td>\n      <td>2015</td>\n      <td>1</td>\n    </tr>\n    <tr>\n      <th>2</th>\n      <td>2</td>\n      <td>2015-01-01 03:55:56</td>\n      <td>2015-01-01 04:10:34</td>\n      <td>1</td>\n      <td>4.90</td>\n      <td>-73.989822</td>\n      <td>40.691109</td>\n      <td>-73.974564</td>\n      <td>40.646412</td>\n      <td>1</td>\n      <td>...</td>\n      <td>0.5</td>\n      <td>0.5</td>\n      <td>0.3</td>\n      <td>4.38</td>\n      <td>0.0</td>\n      <td>None</td>\n      <td>22.68</td>\n      <td>1</td>\n      <td>2015</td>\n      <td>1</td>\n    </tr>\n    <tr>\n      <th>3</th>\n      <td>2</td>\n      <td>2015-01-01 03:54:46</td>\n      <td>2015-01-01 04:14:51</td>\n      <td>1</td>\n      <td>3.57</td>\n      <td>-73.932167</td>\n      <td>40.707943</td>\n      <td>-73.963890</td>\n      <td>40.692127</td>\n      <td>1</td>\n      <td>...</td>\n      <td>0.5</td>\n      <td>0.5</td>\n      <td>0.3</td>\n      <td>0.00</td>\n      <td>0.0</td>\n      <td>None</td>\n      <td>16.80</td>\n      <td>1</td>\n      <td>2015</td>\n      <td>1</td>\n    </tr>\n    <tr>\n      <th>4</th>\n      <td>2</td>\n      <td>2015-01-01 04:01:51</td>\n      <td>2015-01-01 04:09:30</td>\n      <td>5</td>\n      <td>1.52</td>\n      <td>-73.889145</td>\n      <td>40.747181</td>\n      <td>-73.895729</td>\n      <td>40.731693</td>\n      <td>1</td>\n      <td>...</td>\n      <td>0.5</td>\n      <td>0.5</td>\n      <td>0.3</td>\n      <td>0.00</td>\n      <td>0.0</td>\n      <td>None</td>\n      <td>8.80</td>\n      <td>1</td>\n      <td>2015</td>\n      <td>1</td>\n    </tr>\n  </tbody>\n</table>\n<p>5 rows × 22 columns</p>\n</div>"
          },
          "metadata": {}
        }
      ],
      "execution_count": 8,
      "metadata": {
        "jupyter": {
          "source_hidden": false,
          "outputs_hidden": false
        },
        "nteract": {
          "transient": {
            "deleting": false
          }
        },
        "gather": {
          "logged": 1709731588102
        }
      }
    },
    {
      "cell_type": "code",
      "source": [
        "# You can load the table into a pandas dataframe\n",
        "# NOTE: The data is in East US region and the data is large, so this will take several minutes (~7mins)\n",
        "# to load if you are in a different region.\n",
        "\n",
        "# df = tbl.to_pandas_dataframe()"
      ],
      "outputs": [],
      "execution_count": null,
      "metadata": {
        "jupyter": {
          "source_hidden": false,
          "outputs_hidden": false
        },
        "nteract": {
          "transient": {
            "deleting": false
          }
        }
      }
    },
    {
      "cell_type": "code",
      "source": [
        "# grab the environment variables from the current compute instance \n",
        "import os\n",
        "import json\n",
        "with open('/config.json', 'r') as f:\n",
        "  env = json.loads(f.read())\n",
        "print(env)"
      ],
      "outputs": [
        {
          "output_type": "stream",
          "name": "stdout",
          "text": "{'subscription_id': '1b78932d-85c1-434a-abec-b9aa3cef3c79', 'resource_group': 'azuregigaml', 'workspace_name': 'azuregigaml-ws'}\n"
        }
      ],
      "execution_count": 9,
      "metadata": {
        "jupyter": {
          "source_hidden": false,
          "outputs_hidden": false
        },
        "nteract": {
          "transient": {
            "deleting": false
          }
        },
        "gather": {
          "logged": 1709731596421
        }
      }
    },
    {
      "cell_type": "code",
      "source": [
        "# save the data loading steps in an MLTable file to a cloud storage\n",
        "# use an existing datastore\n",
        "datastore_name = 'demodatastore'\n",
        "storage_path = f\"azureml://subscriptions/{env['subscription_id']}/resourcegroups/{env['resource_group']}/workspaces/{env['workspace_name']}/datastores/{datastore_name}/paths/titanic\"\n",
        "print(f'saving to {storage_path}')\n",
        "\n",
        "tbl.save(path=storage_path,  overwrite=True)"
      ],
      "outputs": [
        {
          "output_type": "stream",
          "name": "stdout",
          "text": "saving to azureml://subscriptions/1b78932d-85c1-434a-abec-b9aa3cef3c79/resourcegroups/azuregigaml/workspaces/azuregigaml-ws/datastores/demodatastore/paths/titanic\n"
        }
      ],
      "execution_count": 14,
      "metadata": {
        "jupyter": {
          "source_hidden": false,
          "outputs_hidden": false
        },
        "nteract": {
          "transient": {
            "deleting": false
          }
        },
        "gather": {
          "logged": 1709731709579
        }
      }
    },
    {
      "cell_type": "code",
      "source": [
        "tbl.save()"
      ],
      "outputs": [],
      "execution_count": 15,
      "metadata": {
        "jupyter": {
          "source_hidden": false,
          "outputs_hidden": false
        },
        "nteract": {
          "transient": {
            "deleting": false
          }
        },
        "gather": {
          "logged": 1709731925402
        }
      }
    },
    {
      "cell_type": "code",
      "source": [],
      "outputs": [],
      "execution_count": null,
      "metadata": {
        "jupyter": {
          "source_hidden": false,
          "outputs_hidden": false
        },
        "nteract": {
          "transient": {
            "deleting": false
          }
        }
      }
    }
  ],
  "metadata": {
    "kernelspec": {
      "name": "python310-sdkv2",
      "language": "python",
      "display_name": "Python 3.10 - SDK v2"
    },
    "language_info": {
      "name": "python",
      "version": "3.10.11",
      "mimetype": "text/x-python",
      "codemirror_mode": {
        "name": "ipython",
        "version": 3
      },
      "pygments_lexer": "ipython3",
      "nbconvert_exporter": "python",
      "file_extension": ".py"
    },
    "microsoft": {
      "ms_spell_check": {
        "ms_spell_check_language": "en"
      }
    },
    "kernel_info": {
      "name": "python310-sdkv2"
    },
    "nteract": {
      "version": "nteract-front-end@1.0.0"
    }
  },
  "nbformat": 4,
  "nbformat_minor": 2
}