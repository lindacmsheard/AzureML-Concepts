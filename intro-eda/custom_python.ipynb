{
 "cells": [
  {
   "cell_type": "markdown",
   "metadata": {},
   "source": [
    "# Working interactively on Azure ML\n",
    "\n",
    "> NOTE!: This notebook is useful for small to medium exploratory workloads that run well on a standard single machine and are not intended for operationalisation and deployment. Do check out Prompt Flow for full AI solution development, and the job submission capabilities and pipeline orchestration of the Azure ML SDKv2 and CLI v2!"
   ]
  },
  {
   "cell_type": "markdown",
   "metadata": {},
   "source": [
    "### [Optional] Create a custom interactive python Environent\n",
    "\n",
    "You can run this notebook in the default AML python 3.10 environment on your compute instance. \n",
    "\n",
    "To discover custom environments, Find the button to launch a terminal on the compute instance, and run through [this gist](https://gist.github.com/lindacmsheard/c6df1b511f09a3a5939280bd51ebe6b9) to create a custom conda environment. Refresh the page before coming back to this notebook.\n",
    "\n",
    "This folder contains a suggested environment conda file - if you use it, you can skip the pip install commands below. "
   ]
  },
  {
   "cell_type": "code",
   "execution_count": 3,
   "metadata": {},
   "outputs": [
    {
     "name": "stdout",
     "output_type": "stream",
     "text": [
      "3.10.11 | packaged by conda-forge | (main, May 10 2023, 18:58:44) [GCC 11.3.0]\n",
      "/home/lisheard/miniforge3/envs/aml_310/bin/python3.10\n"
     ]
    }
   ],
   "source": [
    "# verify current kernel\n",
    "import sys\n",
    "print(sys.version)\n",
    "print(sys.executable)\n"
   ]
  },
  {
   "cell_type": "markdown",
   "metadata": {},
   "source": [
    "### Best practice - handling keys\n",
    "> do not place any API keys or other sensitive data directly into a notebook. Here, we use a .env file and the python-dotenv package - that allows us to gitignore the .env file to keep it from being pushed to your repo.\n",
    "\n",
    "Use the terminal or the File tree on the left to create a file named `.env`\n",
    "\n",
    "To support the Azure OpenAI example below, add the following line into the file:\n",
    "```\n",
    "AZURE_OPENAI_KEY=<the key of the resource provided for the hack>\n",
    "```\n",
    "\n"
   ]
  },
  {
   "cell_type": "code",
   "execution_count": 4,
   "metadata": {},
   "outputs": [
    {
     "name": "stdout",
     "output_type": "stream",
     "text": [
      "Requirement already satisfied: python-dotenv in /home/lisheard/miniforge3/envs/aml_310/lib/python3.10/site-packages (1.0.1)\n",
      "Note: you may need to restart the kernel to use updated packages.\n"
     ]
    }
   ],
   "source": [
    "%pip install python-dotenv"
   ]
  },
  {
   "cell_type": "code",
   "execution_count": 3,
   "metadata": {},
   "outputs": [],
   "source": [
    "from dotenv import load_dotenv\n",
    "load_dotenv('./.env')\n",
    "\n",
    "assert('AZURE_OPENAI_KEY' in os.environ)"
   ]
  },
  {
   "cell_type": "code",
   "execution_count": 19,
   "metadata": {},
   "outputs": [
    {
     "name": "stdout",
     "output_type": "stream",
     "text": [
      "\u001b[33mWARNING: Retrying (Retry(total=4, connect=None, read=None, redirect=None, status=None)) after connection broken by 'NewConnectionError('<pip._vendor.urllib3.connection.HTTPSConnection object at 0x7ff9c3d70490>: Failed to establish a new connection: [Errno -3] Temporary failure in name resolution')': /simple/openai/\u001b[0m\u001b[33m\n",
      "\u001b[0mCollecting openai\n",
      "  Downloading openai-1.23.6-py3-none-any.whl.metadata (21 kB)\n",
      "Collecting anyio<5,>=3.5.0 (from openai)\n",
      "  Downloading anyio-4.3.0-py3-none-any.whl.metadata (4.6 kB)\n",
      "Collecting distro<2,>=1.7.0 (from openai)\n",
      "  Downloading distro-1.9.0-py3-none-any.whl.metadata (6.8 kB)\n",
      "Collecting httpx<1,>=0.23.0 (from openai)\n",
      "  Downloading httpx-0.27.0-py3-none-any.whl.metadata (7.2 kB)\n",
      "Collecting pydantic<3,>=1.9.0 (from openai)\n",
      "  Downloading pydantic-2.7.1-py3-none-any.whl.metadata (107 kB)\n",
      "\u001b[2K     \u001b[90m━━━━━━━━━━━━━━━━━━━━━━━━━━━━━━━━━━━━━━━\u001b[0m \u001b[32m107.3/107.3 kB\u001b[0m \u001b[31m1.4 MB/s\u001b[0m eta \u001b[36m0:00:00\u001b[0ma \u001b[36m0:00:01\u001b[0m\n",
      "\u001b[?25hCollecting sniffio (from openai)\n",
      "  Downloading sniffio-1.3.1-py3-none-any.whl.metadata (3.9 kB)\n",
      "Requirement already satisfied: tqdm>4 in /home/lisheard/miniforge3/envs/aml_310/lib/python3.10/site-packages (from openai) (4.66.2)\n",
      "Requirement already satisfied: typing-extensions<5,>=4.7 in /home/lisheard/miniforge3/envs/aml_310/lib/python3.10/site-packages (from openai) (4.9.0)\n",
      "Requirement already satisfied: idna>=2.8 in /home/lisheard/miniforge3/envs/aml_310/lib/python3.10/site-packages (from anyio<5,>=3.5.0->openai) (3.6)\n",
      "Requirement already satisfied: exceptiongroup>=1.0.2 in /home/lisheard/miniforge3/envs/aml_310/lib/python3.10/site-packages (from anyio<5,>=3.5.0->openai) (1.2.0)\n",
      "Requirement already satisfied: certifi in /home/lisheard/miniforge3/envs/aml_310/lib/python3.10/site-packages (from httpx<1,>=0.23.0->openai) (2024.2.2)\n",
      "Collecting httpcore==1.* (from httpx<1,>=0.23.0->openai)\n",
      "  Downloading httpcore-1.0.5-py3-none-any.whl.metadata (20 kB)\n",
      "Collecting h11<0.15,>=0.13 (from httpcore==1.*->httpx<1,>=0.23.0->openai)\n",
      "  Downloading h11-0.14.0-py3-none-any.whl.metadata (8.2 kB)\n",
      "Collecting annotated-types>=0.4.0 (from pydantic<3,>=1.9.0->openai)\n",
      "  Downloading annotated_types-0.6.0-py3-none-any.whl.metadata (12 kB)\n",
      "Collecting pydantic-core==2.18.2 (from pydantic<3,>=1.9.0->openai)\n",
      "  Downloading pydantic_core-2.18.2-cp310-cp310-manylinux_2_17_x86_64.manylinux2014_x86_64.whl.metadata (6.5 kB)\n",
      "Downloading openai-1.23.6-py3-none-any.whl (311 kB)\n",
      "\u001b[2K   \u001b[90m━━━━━━━━━━━━━━━━━━━━━━━━━━━━━━━━━━━━━━━━\u001b[0m \u001b[32m311.6/311.6 kB\u001b[0m \u001b[31m3.0 MB/s\u001b[0m eta \u001b[36m0:00:00\u001b[0m00:01\u001b[0m00:01\u001b[0m\n",
      "\u001b[?25hDownloading anyio-4.3.0-py3-none-any.whl (85 kB)\n",
      "\u001b[2K   \u001b[90m━━━━━━━━━━━━━━━━━━━━━━━━━━━━━━━━━━━━━━━━\u001b[0m \u001b[32m85.6/85.6 kB\u001b[0m \u001b[31m3.2 MB/s\u001b[0m eta \u001b[36m0:00:00\u001b[0m\n",
      "\u001b[?25hDownloading distro-1.9.0-py3-none-any.whl (20 kB)\n",
      "Downloading httpx-0.27.0-py3-none-any.whl (75 kB)\n",
      "\u001b[2K   \u001b[90m━━━━━━━━━━━━━━━━━━━━━━━━━━━━━━━━━━━━━━━━\u001b[0m \u001b[32m75.6/75.6 kB\u001b[0m \u001b[31m1.5 MB/s\u001b[0m eta \u001b[36m0:00:00\u001b[0ma \u001b[36m0:00:01\u001b[0m\n",
      "\u001b[?25hDownloading httpcore-1.0.5-py3-none-any.whl (77 kB)\n",
      "\u001b[2K   \u001b[90m━━━━━━━━━━━━━━━━━━━━━━━━━━━━━━━━━━━━━━━━\u001b[0m \u001b[32m77.9/77.9 kB\u001b[0m \u001b[31m2.7 MB/s\u001b[0m eta \u001b[36m0:00:00\u001b[0m\n",
      "\u001b[?25hDownloading pydantic-2.7.1-py3-none-any.whl (409 kB)\n",
      "\u001b[2K   \u001b[90m━━━━━━━━━━━━━━━━━━━━━━━━━━━━━━━━━━━━━━━━\u001b[0m \u001b[32m409.3/409.3 kB\u001b[0m \u001b[31m2.5 MB/s\u001b[0m eta \u001b[36m0:00:00\u001b[0m00:01\u001b[0m00:01\u001b[0m\n",
      "\u001b[?25hDownloading pydantic_core-2.18.2-cp310-cp310-manylinux_2_17_x86_64.manylinux2014_x86_64.whl (2.1 MB)\n",
      "\u001b[2K   \u001b[90m━━━━━━━━━━━━━━━━━━━━━━━━━━━━━━━━━━━━━━━━\u001b[0m \u001b[32m2.1/2.1 MB\u001b[0m \u001b[31m4.0 MB/s\u001b[0m eta \u001b[36m0:00:00\u001b[0m00:01\u001b[0m00:01\u001b[0m\n",
      "\u001b[?25hDownloading sniffio-1.3.1-py3-none-any.whl (10 kB)\n",
      "Downloading annotated_types-0.6.0-py3-none-any.whl (12 kB)\n",
      "Downloading h11-0.14.0-py3-none-any.whl (58 kB)\n",
      "\u001b[2K   \u001b[90m━━━━━━━━━━━━━━━━━━━━━━━━━━━━━━━━━━━━━━━━\u001b[0m \u001b[32m58.3/58.3 kB\u001b[0m \u001b[31m2.7 MB/s\u001b[0m eta \u001b[36m0:00:00\u001b[0m\n",
      "\u001b[?25hInstalling collected packages: sniffio, pydantic-core, h11, distro, annotated-types, pydantic, httpcore, anyio, httpx, openai\n",
      "Successfully installed annotated-types-0.6.0 anyio-4.3.0 distro-1.9.0 h11-0.14.0 httpcore-1.0.5 httpx-0.27.0 openai-1.23.6 pydantic-2.7.1 pydantic-core-2.18.2 sniffio-1.3.1\n",
      "Note: you may need to restart the kernel to use updated packages.\n"
     ]
    }
   ],
   "source": [
    "%pip install openai"
   ]
  },
  {
   "cell_type": "code",
   "execution_count": 21,
   "metadata": {},
   "outputs": [],
   "source": [
    "#Note: The openai-python library support for Azure OpenAI is in preview.\n",
    "      #Note: This code sample requires OpenAI Python library version 1.0.0 or higher.\n",
    "import os\n",
    "from openai import AzureOpenAI\n",
    "\n",
    "\n",
    "client = AzureOpenAI(\n",
    "  azure_endpoint = \"https://co-openai-sandbox-01.openai.azure.com/\", \n",
    "  api_key=os.getenv(\"AZURE_OPENAI_KEY\"),  \n",
    "  api_version=\"2024-02-15-preview\"\n",
    ")\n",
    "\n",
    "system=\"\"\"\n",
    "\"You are an AI assistant that helps people produce sample data. \n",
    "Do not return additional commentary or markdown notation around the data.\n",
    "the intention is to use your response programmatically.\n",
    "\n",
    "Example response:\n",
    "[\n",
    "    {\"ID\": 1, \"Category\": \"Electronics\", \"Description\": \"Smartphone with 128GB storage\"},\n",
    "    {\"ID\": 2, \"Category\": \"Fashion\", \"Description\": \"Leather wallet in black\"},\n",
    "    ...\n",
    "]\n",
    "\"\"\"\n",
    "\n",
    "prompt=\"\"\"\n",
    "Please can you create a dataset with three columns, \n",
    "make up any data, 10 rows in total, mix of numeric, categorical and text.\n",
    "Don't truncate the table, return the table only, in json format\n",
    "\"\"\"\n",
    "\n",
    "message_text = [{\"role\":\"system\",\"content\":system},\n",
    "                {\"role\":\"user\",\"content\":prompt}]\n",
    "\n",
    "completion = client.chat.completions.create(\n",
    "  model=\"gpt-4-0125\", # model = \"deployment_name\"\n",
    "  messages = message_text,\n",
    "  temperature=0.7,\n",
    "  max_tokens=800,\n",
    "  top_p=0.95,\n",
    "  frequency_penalty=0,\n",
    "  presence_penalty=0,\n",
    "  stop=None\n",
    ")\n",
    "\n"
   ]
  },
  {
   "cell_type": "code",
   "execution_count": 22,
   "metadata": {},
   "outputs": [
    {
     "name": "stdout",
     "output_type": "stream",
     "text": [
      "[\n",
      "    {\"ID\": 1, \"Category\": \"Electronics\", \"Price\": 999, \"Description\": \"Latest model smartphone with 256GB storage and 12GB RAM\"},\n",
      "    {\"ID\": 2, \"Category\": \"Books\", \"Price\": 14, \"Description\": \"Hardcover fantasy novel by a bestselling author\"},\n",
      "    {\"ID\": 3, \"Category\": \"Fashion\", \"Price\": 75, \"Description\": \"Eco-friendly cotton t-shirt, size M\"},\n",
      "    {\"ID\": 4, \"Category\": \"Electronics\", \"Price\": 250, \"Description\": \"Wireless noise-cancelling headphones\"},\n",
      "    {\"ID\": 5, \"Category\": \"Home & Garden\", \"Price\": 35, \"Description\": \"Stainless steel kitchen knife set\"},\n",
      "    {\"ID\": 6, \"Category\": \"Sports\", \"Price\": 120, \"Description\": \"Men's running shoes, size 11\"},\n",
      "    {\"ID\": 7, \"Category\": \"Beauty\", \"Price\": 45, \"Description\": \"Vegan skincare set including moisturizer and cleanser\"},\n",
      "    {\"ID\": 8, \"Category\": \"Toys & Games\", \"Price\": 60, \"Description\": \"Educational STEM building toy set\"},\n",
      "    {\"ID\": 9, \"Category\": \"Automotive\", \"Price\": 300, \"Description\": \"Premium car detailing kit\"},\n",
      "    {\"ID\": 10, \"Category\": \"Electronics\", \"Price\": 59, \"Description\": \"Portable external hard drive, 1TB\"}\n",
      "]\n"
     ]
    }
   ],
   "source": [
    "print(completion.choices[0].message.content)"
   ]
  },
  {
   "cell_type": "code",
   "execution_count": 25,
   "metadata": {},
   "outputs": [],
   "source": [
    "# Warning - this will only work if your prompt ensures that nothing but valid json is returned in the response. Remember this is a model finetuned for chat\n",
    "import json\n",
    "data = json.loads(completion.choices[0].message.content)"
   ]
  },
  {
   "cell_type": "code",
   "execution_count": 31,
   "metadata": {},
   "outputs": [
    {
     "data": {
      "text/html": [
       "<div>\n",
       "<style scoped>\n",
       "    .dataframe tbody tr th:only-of-type {\n",
       "        vertical-align: middle;\n",
       "    }\n",
       "\n",
       "    .dataframe tbody tr th {\n",
       "        vertical-align: top;\n",
       "    }\n",
       "\n",
       "    .dataframe thead th {\n",
       "        text-align: right;\n",
       "    }\n",
       "</style>\n",
       "<table border=\"1\" class=\"dataframe\">\n",
       "  <thead>\n",
       "    <tr style=\"text-align: right;\">\n",
       "      <th></th>\n",
       "      <th>ID</th>\n",
       "      <th>Category</th>\n",
       "      <th>Price</th>\n",
       "      <th>Description</th>\n",
       "    </tr>\n",
       "  </thead>\n",
       "  <tbody>\n",
       "    <tr>\n",
       "      <th>0</th>\n",
       "      <td>1</td>\n",
       "      <td>Electronics</td>\n",
       "      <td>999</td>\n",
       "      <td>Latest model smartphone with 256GB storage and...</td>\n",
       "    </tr>\n",
       "    <tr>\n",
       "      <th>1</th>\n",
       "      <td>2</td>\n",
       "      <td>Books</td>\n",
       "      <td>14</td>\n",
       "      <td>Hardcover fantasy novel by a bestselling author</td>\n",
       "    </tr>\n",
       "    <tr>\n",
       "      <th>2</th>\n",
       "      <td>3</td>\n",
       "      <td>Fashion</td>\n",
       "      <td>75</td>\n",
       "      <td>Eco-friendly cotton t-shirt, size M</td>\n",
       "    </tr>\n",
       "    <tr>\n",
       "      <th>3</th>\n",
       "      <td>4</td>\n",
       "      <td>Electronics</td>\n",
       "      <td>250</td>\n",
       "      <td>Wireless noise-cancelling headphones</td>\n",
       "    </tr>\n",
       "    <tr>\n",
       "      <th>4</th>\n",
       "      <td>5</td>\n",
       "      <td>Home &amp; Garden</td>\n",
       "      <td>35</td>\n",
       "      <td>Stainless steel kitchen knife set</td>\n",
       "    </tr>\n",
       "  </tbody>\n",
       "</table>\n",
       "</div>"
      ],
      "text/plain": [
       "   ID       Category  Price                                        Description\n",
       "0   1    Electronics    999  Latest model smartphone with 256GB storage and...\n",
       "1   2          Books     14    Hardcover fantasy novel by a bestselling author\n",
       "2   3        Fashion     75                Eco-friendly cotton t-shirt, size M\n",
       "3   4    Electronics    250               Wireless noise-cancelling headphones\n",
       "4   5  Home & Garden     35                  Stainless steel kitchen knife set"
      ]
     },
     "execution_count": 31,
     "metadata": {},
     "output_type": "execute_result"
    }
   ],
   "source": [
    "import pandas as pd\n",
    "df = pd.DataFrame(data)\n",
    "df.head()"
   ]
  },
  {
   "cell_type": "markdown",
   "metadata": {},
   "source": [
    "# Upload and register the dataset in Azure ML\n",
    "\n",
    "Work through [this page](https://learn.microsoft.com/en-us/azure/machine-learning/tutorial-explore-data?view=azureml-api-2) to register your data into the Azure ML workspace\n",
    "\n",
    "> :bulb: Tip: write the dataframe out locally to a file first. \n",
    "\n",
    "> :bulb: **Recommendation: please switch back to the curated python kernel, `Python 3.10 - SDK v2`**\n",
    "\n",
    "> *To learn more about how to install the Azure ML SDKv2 in your own environment, see [here](https://learn.microsoft.com/en-us/python/api/overview/azure/ml/install?view=azure-ml-py).*"
   ]
  },
  {
   "cell_type": "markdown",
   "metadata": {},
   "source": []
  }
 ],
 "metadata": {
  "kernelspec": {
   "display_name": "Python 3.10 (AML 310)",
   "language": "python",
   "name": "aml_310"
  },
  "language_info": {
   "codemirror_mode": {
    "name": "ipython",
    "version": 3
   },
   "file_extension": ".py",
   "mimetype": "text/x-python",
   "name": "python",
   "nbconvert_exporter": "python",
   "pygments_lexer": "ipython3",
   "version": "3.10.11"
  }
 },
 "nbformat": 4,
 "nbformat_minor": 2
}
