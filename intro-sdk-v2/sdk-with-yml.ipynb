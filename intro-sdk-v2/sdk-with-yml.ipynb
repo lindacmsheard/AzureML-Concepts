{
  "cells": [
    {
      "cell_type": "code",
      "source": [
        "# optional - grab the environment variables from the current compute instance \n",
        "import os\n",
        "import json\n",
        "with open('/config.json', 'r') as f:\n",
        "  env = json.loads(f.read())\n",
        "os.environ['AZURE_SUBSCRIPTION_ID'] = env['subscription_id']\n",
        "os.environ['AZURE_RESOURCE_GROUP'] = env['resource_group']\n",
        "os.environ['AML_WORKSPACE'] = env['workspace_name']"
      ],
      "outputs": [],
      "execution_count": 19,
      "metadata": {
        "jupyter": {
          "source_hidden": false,
          "outputs_hidden": false
        },
        "nteract": {
          "transient": {
            "deleting": false
          }
        },
        "gather": {
          "logged": 1709729462957
        }
      }
    },
    {
      "cell_type": "code",
      "source": [
        "# # or alternativlely use dotenv to load the environment variables into the session from a custom .env file\n",
        "# # \n",
        "# # (pip install python-dotenv)\n",
        "# '''\n",
        "# # Example .env file\n",
        "# AZURE_SUBSCRIPTION_ID='subid'\n",
        "# AZURE_RESOURCE_GROUP='rgname'\n",
        "# AML_WORKSPACE='wsname'\n",
        "# '''\n",
        "# from dotenv import load_dotenv\n",
        "# print('Loading environment variables from .env... Loaded:')\n",
        "# load_dotenv('./.env')"
      ],
      "outputs": [],
      "execution_count": null,
      "metadata": {
        "jupyter": {
          "source_hidden": false,
          "outputs_hidden": false
        },
        "nteract": {
          "transient": {
            "deleting": false
          }
        }
      }
    },
    {
      "cell_type": "code",
      "source": [
        "import sys\n",
        "print(\"Using Env: \", sys.executable)\n",
        "print(\"Python verision: \", sys.version)\n",
        "\n",
        "import os\n",
        "from azure.identity import DefaultAzureCredential, InteractiveBrowserCredential, DeviceCodeCredential\n",
        "from azure.ai.ml import MLClient\n",
        "\n",
        "\n",
        "\n",
        "# Connect using Default Credential - dependent on already being logged in via Azure CLI in the current environment\n",
        "try:\n",
        "    credential = DefaultAzureCredential()\n",
        "    # Check if given credential can get token successfully.\n",
        "    credential.get_token(\"https://management.azure.com/.default\")\n",
        "except Exception as ex:\n",
        "    print(\"using fallback\")\n",
        "    # credential = InteractiveBrowserCredential()  \n",
        "         ## does not work when working from Azure Databricks as we cannot launch a browser\n",
        "    credential = DeviceCodeCredential(tenant_id=os.environ['AZURE_TENANT_ID'])  \n",
        "         ## this may work if conditional access controlling login device types is not set by your tenant admin\n",
        "    \n",
        "# set up the mlclient\n",
        "ml_client = MLClient(\n",
        "    credential=credential,\n",
        "    subscription_id=os.environ.get('AZURE_SUBSCRIPTION_ID'),  \n",
        "    resource_group_name=os.environ.get('AZURE_RESOURCE_GROUP'),\n",
        "    workspace_name=os.environ.get('AML_WORKSPACE'),\n",
        ")\n",
        "\n",
        "# verify access to the Azure Machine Learning Workspace by listing available compute\n",
        "print(\"Available Compute: \\n==================\")\n",
        "for c in ml_client.compute.list():\n",
        "    print(c.name)"
      ],
      "outputs": [
        {
          "output_type": "stream",
          "name": "stdout",
          "text": "Using Env:  /anaconda/envs/azureml_py310_sdkv2/bin/python\nPython verision:  3.10.11 (main, May 16 2023, 00:28:57) [GCC 11.2.0]\nAvailable Compute: \n==================\ncpu-cluster\nDefLabelNC4asT4v3\ncpu-cluster-ds12\ncpu-cluster-lp\nds12-git\ngpu-cluster-new\nds2-git\n"
        }
      ],
      "execution_count": 20,
      "metadata": {
        "jupyter": {
          "source_hidden": false,
          "outputs_hidden": false
        },
        "nteract": {
          "transient": {
            "deleting": false
          }
        },
        "gather": {
          "logged": 1709729466644
        }
      }
    },
    {
      "cell_type": "code",
      "source": [
        "print(\"\\nAvailable environments (examples):\")\n",
        "for e in ml_client.environments.list():\n",
        "    # let's filter to keep it simple\n",
        "    if 'sklearn' in e.name:   \n",
        "    # or alternatively exclude curated envs\n",
        "    # if e.creation_context.created_by_type == 'User' and e.creation_context.created_by != \"Microsoft\":    \n",
        "        print(e.name, e.latest_version)"
      ],
      "outputs": [
        {
          "output_type": "stream",
          "name": "stdout",
          "text": "\nAvailable environments (examples):\nAzureML-sklearn-1.0-ubuntu20.04-py38-cpu 36\nAzureML-sklearn-0.24-ubuntu18.04-py37-cpu 49\n"
        }
      ],
      "execution_count": 6,
      "metadata": {
        "jupyter": {
          "source_hidden": false,
          "outputs_hidden": false
        },
        "nteract": {
          "transient": {
            "deleting": false
          }
        },
        "gather": {
          "logged": 1706622029598
        }
      }
    },
    {
      "cell_type": "code",
      "source": [
        "from azure.ai.ml import load_environment\n",
        "my_env = load_environment('../definitions/environments/base-image-plus-conda-file/definition.yml')"
      ],
      "outputs": [],
      "execution_count": 23,
      "metadata": {
        "jupyter": {
          "source_hidden": false,
          "outputs_hidden": false
        },
        "nteract": {
          "transient": {
            "deleting": false
          }
        },
        "gather": {
          "logged": 1709729732466
        }
      }
    },
    {
      "cell_type": "code",
      "source": [
        "print(my_env)\n",
        "\n"
      ],
      "outputs": [
        {
          "output_type": "stream",
          "name": "stdout",
          "text": "conda_file:\n  channels:\n  - conda-forge\n  dependencies:\n  - python=3.8\n  - pandas\n  - pip\n  - pip:\n    - azureml-mlflow\n  name: my_custom_env\ndescription: Environment created from a Docker image plus Conda environment.\nimage: mcr.microsoft.com/azureml/openmpi4.1.0-ubuntu20.04\nname: docker-image-plus-conda-example\ntags: {}\n\n"
        }
      ],
      "execution_count": 24,
      "metadata": {
        "jupyter": {
          "source_hidden": false,
          "outputs_hidden": false
        },
        "nteract": {
          "transient": {
            "deleting": false
          }
        },
        "gather": {
          "logged": 1709729735655
        }
      }
    },
    {
      "cell_type": "code",
      "source": [
        "ml_client.environments.create_or_update(my_env)"
      ],
      "outputs": [
        {
          "output_type": "execute_result",
          "execution_count": 30,
          "data": {
            "text/plain": "Environment({'is_anonymous': False, 'auto_increment_version': False, 'name': 'docker-image-plus-conda-example', 'description': 'Environment created from a Docker image plus Conda environment.', 'tags': {}, 'properties': {}, 'id': '/subscriptions/1b78932d-85c1-434a-abec-b9aa3cef3c79/resourceGroups/azuregigaml/providers/Microsoft.MachineLearningServices/workspaces/azuregigaml-ws/environments/docker-image-plus-conda-example/versions/1', 'base_path': './', 'creation_context': <azure.ai.ml._restclient.v2022_05_01.models._models_py3.SystemData object at 0x7f634726f7f0>, 'serialize': <msrest.serialization.Serializer object at 0x7f63470f9090>, 'version': '1', 'latest_version': None, 'conda_file': OrderedDict([('channels', ['defaults', 'conda-forge']), ('dependencies', ['python=3.8', 'pandas', 'pip', OrderedDict([('pip', ['azureml-mlflow'])])]), ('name', 'my_custom_env')]), 'image': 'mcr.microsoft.com/azureml/openmpi4.1.0-ubuntu20.04', 'build': None, 'inference_config': None, 'os_type': 'Linux', 'arm_type': 'environment_version', 'conda_file_path': None, 'path': None, 'upload_hash': None, 'translated_conda_file': None})"
          },
          "metadata": {}
        }
      ],
      "execution_count": 30,
      "metadata": {
        "jupyter": {
          "source_hidden": false,
          "outputs_hidden": false
        },
        "nteract": {
          "transient": {
            "deleting": false
          }
        },
        "gather": {
          "logged": 1703084997452
        }
      }
    },
    {
      "cell_type": "code",
      "source": [
        "from azure.ai.ml import load_job\n",
        "\n",
        "simple_mlflow_job = load_job('../definitions/jobs/simple_python_job/definition.yml')"
      ],
      "outputs": [],
      "execution_count": 26,
      "metadata": {
        "jupyter": {
          "source_hidden": false,
          "outputs_hidden": false
        },
        "nteract": {
          "transient": {
            "deleting": false
          }
        },
        "gather": {
          "logged": 1709730301271
        }
      }
    },
    {
      "cell_type": "code",
      "source": [
        "# CLI equivalent is\n",
        "#   az ml job create -f <definition file>\n",
        "\n",
        "ml_client.jobs.create_or_update(simple_mlflow_job)"
      ],
      "outputs": [
        {
          "output_type": "stream",
          "name": "stderr",
          "text": "\u001b[32mUploading src (0.0 MBs): 100%|██████████| 977/977 [00:00<00:00, 10080.92it/s]\n\u001b[39m\n\n"
        },
        {
          "output_type": "execute_result",
          "execution_count": 27,
          "data": {
            "text/plain": "Command({'parameters': {}, 'init': False, 'name': 'olive_pot_1cjlc7bkyk', 'type': 'command', 'status': 'Starting', 'log_files': None, 'description': 'Show how to use mlflow logging', 'tags': {}, 'properties': {'_azureml.ComputeTargetType': 'amlctrain', '_azureml.ClusterName': 'cpu-cluster', 'ContentSnapshotId': '9ecd599e-2d70-43c5-b97e-e3e3e0fcb148'}, 'print_as_yaml': True, 'id': '/subscriptions/1b78932d-85c1-434a-abec-b9aa3cef3c79/resourceGroups/azuregigaml/providers/Microsoft.MachineLearningServices/workspaces/azuregigaml-ws/jobs/olive_pot_1cjlc7bkyk', 'Resource__source_path': None, 'base_path': '/mnt/batch/tasks/shared/LS_root/mounts/clusters/ds2-git/code/Users/lisheard/myrepos/AzureML-Concepts/intro-sdk-v2', 'creation_context': <azure.ai.ml.entities._system_data.SystemData object at 0x7f5feebdd3f0>, 'serialize': <msrest.serialization.Serializer object at 0x7f5fee6b2bf0>, 'allowed_keys': {}, 'key_restriction': False, 'logger': <Logger attr_dict (WARNING)>, 'display_name': 'mlflow-starter', 'experiment_name': 'mlflow-starter', 'compute': 'cpu-cluster', 'services': {'Tracking': {'endpoint': 'azureml://uksouth.api.azureml.ms/mlflow/v1.0/subscriptions/1b78932d-85c1-434a-abec-b9aa3cef3c79/resourceGroups/azuregigaml/providers/Microsoft.MachineLearningServices/workspaces/azuregigaml-ws?', 'type': 'Tracking'}, 'Studio': {'endpoint': 'https://ml.azure.com/runs/olive_pot_1cjlc7bkyk?wsid=/subscriptions/1b78932d-85c1-434a-abec-b9aa3cef3c79/resourcegroups/azuregigaml/workspaces/azuregigaml-ws&tid=16b3c013-d300-468d-ac64-7eda0820b6d3', 'type': 'Studio'}}, 'comment': None, 'job_inputs': {}, 'job_outputs': {'default': {'type': 'uri_folder', 'path': 'azureml://datastores/workspaceartifactstore/ExperimentRun/dcid.olive_pot_1cjlc7bkyk', 'mode': 'rw_mount'}}, 'inputs': {}, 'outputs': {'default': <azure.ai.ml.entities._job.pipeline._io.base.NodeOutput object at 0x7f5fee6b1270>}, 'component': CommandComponent({'intellectual_property': None, 'auto_increment_version': True, 'source': 'REMOTE.WORKSPACE.JOB', 'is_anonymous': False, 'auto_delete_setting': None, 'name': 'olive_pot_1cjlc7bkyk', 'description': 'Show how to use mlflow logging', 'tags': {}, 'properties': {}, 'print_as_yaml': True, 'id': None, 'Resource__source_path': None, 'base_path': PosixPath('.'), 'creation_context': <azure.ai.ml.entities._system_data.SystemData object at 0x7f5feebdd3f0>, 'serialize': <msrest.serialization.Serializer object at 0x7f5fed058580>, 'command': 'python mlflow-starter.py\\n', 'code': '/subscriptions/1b78932d-85c1-434a-abec-b9aa3cef3c79/resourceGroups/azuregigaml/providers/Microsoft.MachineLearningServices/workspaces/azuregigaml-ws/codes/52d3b98d-ba53-4d2c-a421-faa924d40c2d/versions/1', 'environment_variables': {}, 'environment': '/subscriptions/1b78932d-85c1-434a-abec-b9aa3cef3c79/resourceGroups/azuregigaml/providers/Microsoft.MachineLearningServices/workspaces/azuregigaml-ws/environments/CliV2AnonymousEnvironment/versions/75eccda982b9cd81019b26a2b4df3d04', 'distribution': None, 'resources': None, 'queue_settings': None, 'version': None, 'latest_version': None, 'schema': None, 'type': 'command', 'display_name': 'mlflow-starter', 'is_deterministic': True, 'inputs': {}, 'outputs': {'default': {'type': 'uri_folder', 'path': 'azureml://datastores/workspaceartifactstore/ExperimentRun/dcid.olive_pot_1cjlc7bkyk', 'mode': 'rw_mount'}}, 'yaml_str': None, 'other_parameter': {'status': 'Starting', 'parameters': {}}, 'additional_includes': [], 'CommandComponent__additional_includes_obj': None}), 'referenced_control_flow_node_instance_id': None, 'kwargs': {'services': {'Tracking': {'endpoint': 'azureml://uksouth.api.azureml.ms/mlflow/v1.0/subscriptions/1b78932d-85c1-434a-abec-b9aa3cef3c79/resourceGroups/azuregigaml/providers/Microsoft.MachineLearningServices/workspaces/azuregigaml-ws?', 'type': 'Tracking'}, 'Studio': {'endpoint': 'https://ml.azure.com/runs/olive_pot_1cjlc7bkyk?wsid=/subscriptions/1b78932d-85c1-434a-abec-b9aa3cef3c79/resourcegroups/azuregigaml/workspaces/azuregigaml-ws&tid=16b3c013-d300-468d-ac64-7eda0820b6d3', 'type': 'Studio'}}, 'status': 'Starting', 'creation_context': <azure.ai.ml.entities._system_data.SystemData object at 0x7f5feebdd3f0>}, 'instance_id': '73dcff04-fd44-4ecb-97b5-6db0b555eff4', 'source': 'BUILDER', 'validate_required_input_not_provided': True, 'limits': None, 'identity': None, 'distribution': None, 'environment_variables': {}, 'environment': 'CliV2AnonymousEnvironment:75eccda982b9cd81019b26a2b4df3d04', 'resources': {'instance_count': 1, 'shm_size': '2g'}, 'queue_settings': None, 'swept': False})",
            "text/html": "<table style=\"width:100%\"><tr><th>Experiment</th><th>Name</th><th>Type</th><th>Status</th><th>Details Page</th></tr><tr><td>mlflow-starter</td><td>olive_pot_1cjlc7bkyk</td><td>command</td><td>Starting</td><td><a href=\"https://ml.azure.com/runs/olive_pot_1cjlc7bkyk?wsid=/subscriptions/1b78932d-85c1-434a-abec-b9aa3cef3c79/resourcegroups/azuregigaml/workspaces/azuregigaml-ws&amp;tid=16b3c013-d300-468d-ac64-7eda0820b6d3\" target=\"_blank\" rel=\"noopener\">Link to Azure Machine Learning studio</a></td></tr></table>"
          },
          "metadata": {}
        }
      ],
      "execution_count": 27,
      "metadata": {
        "jupyter": {
          "source_hidden": false,
          "outputs_hidden": false
        },
        "nteract": {
          "transient": {
            "deleting": false
          }
        },
        "gather": {
          "logged": 1709730349844
        }
      }
    },
    {
      "cell_type": "code",
      "source": [
        "# load a pipeline definied in a yaml file\n",
        "from azure.ai.ml import load_job\n",
        "\n",
        "simple_pipeline = load_job('../definitions/pipelines/simple_pipeline/definition.yml')\n",
        "print(simple_pipeline)"
      ],
      "outputs": [
        {
          "output_type": "stream",
          "name": "stderr",
          "text": "Class AutoDeleteSettingSchema: This is an experimental class, and may change at any time. Please see https://aka.ms/azuremlexperimental for more information.\nClass AutoDeleteConditionSchema: This is an experimental class, and may change at any time. Please see https://aka.ms/azuremlexperimental for more information.\nClass BaseAutoDeleteSettingSchema: This is an experimental class, and may change at any time. Please see https://aka.ms/azuremlexperimental for more information.\nClass IntellectualPropertySchema: This is an experimental class, and may change at any time. Please see https://aka.ms/azuremlexperimental for more information.\nClass ProtectionLevelSchema: This is an experimental class, and may change at any time. Please see https://aka.ms/azuremlexperimental for more information.\nClass BaseIntellectualPropertySchema: This is an experimental class, and may change at any time. Please see https://aka.ms/azuremlexperimental for more information.\n"
        },
        {
          "output_type": "stream",
          "name": "stdout",
          "text": "display_name: hello_pipeline_io\ntype: pipeline\njobs:\n  hello_job:\n    type: command\n    component:\n      name: azureml_anonymous\n      version: '1'\n      type: command\n      outputs:\n        world_output:\n          type: uri_folder\n      command: echo \"hello\" && echo \"world\" > ${{outputs.world_output}}/world.txt\n      environment: azureml:AzureML-sklearn-1.0-ubuntu20.04-py38-cpu@latest\n      is_deterministic: true\n    compute: azureml:cpu-cluster\n  world_job:\n    type: command\n    inputs:\n      world_input:\n        path: ${{parent.jobs.hello_job.outputs.world_output}}\n    component:\n      name: azureml_anonymous\n      version: '1'\n      type: command\n      inputs:\n        world_input:\n          type: uri_folder\n      command: cat ${{inputs.world_input}}/world.txt\n      environment: azureml:docker-image-plus-conda-example:1\n      is_deterministic: true\n    compute: azureml:cpu-cluster\n\n"
        }
      ],
      "execution_count": 7,
      "metadata": {
        "jupyter": {
          "source_hidden": false,
          "outputs_hidden": false
        },
        "nteract": {
          "transient": {
            "deleting": false
          }
        },
        "gather": {
          "logged": 1706622044470
        }
      }
    },
    {
      "cell_type": "code",
      "source": [
        "ml_client.jobs.create_or_update(simple_pipeline)"
      ],
      "outputs": [],
      "execution_count": 8,
      "metadata": {
        "jupyter": {
          "source_hidden": false,
          "outputs_hidden": false
        },
        "nteract": {
          "transient": {
            "deleting": false
          }
        }
      }
    },
    {
      "cell_type": "code",
      "source": [],
      "outputs": [],
      "execution_count": null,
      "metadata": {
        "jupyter": {
          "source_hidden": false,
          "outputs_hidden": false
        },
        "nteract": {
          "transient": {
            "deleting": false
          }
        }
      }
    }
  ],
  "metadata": {
    "kernelspec": {
      "name": "python310-sdkv2",
      "language": "python",
      "display_name": "Python 3.10 - SDK v2"
    },
    "language_info": {
      "name": "python",
      "version": "3.10.11",
      "mimetype": "text/x-python",
      "codemirror_mode": {
        "name": "ipython",
        "version": 3
      },
      "pygments_lexer": "ipython3",
      "nbconvert_exporter": "python",
      "file_extension": ".py"
    },
    "microsoft": {
      "ms_spell_check": {
        "ms_spell_check_language": "en"
      },
      "host": {
        "AzureML": {
          "notebookHasBeenCompleted": true
        }
      }
    },
    "kernel_info": {
      "name": "python310-sdkv2"
    },
    "nteract": {
      "version": "nteract-front-end@1.0.0"
    }
  },
  "nbformat": 4,
  "nbformat_minor": 2
}